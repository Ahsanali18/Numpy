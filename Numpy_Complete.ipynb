{
 "cells": [
  {
   "cell_type": "code",
   "execution_count": 1,
   "id": "71f59a08-f757-467c-bf82-16107575e96f",
   "metadata": {},
   "outputs": [],
   "source": [
    "# Numpy: Efficient for performing mathematical operations as compared to python-lists."
   ]
  },
  {
   "cell_type": "code",
   "execution_count": 2,
   "id": "4759bd44-7446-4fbb-a3ca-fe07b6eecf03",
   "metadata": {},
   "outputs": [
    {
     "name": "stdout",
     "output_type": "stream",
     "text": [
      "Time taken for List: 0.039893388748168945\n"
     ]
    }
   ],
   "source": [
    "# Example Code:\n",
    "import numpy as np\n",
    "import time\n",
    "\n",
    "numbers = [1,2,3,4,5,6,7,8,9,10]*10000\n",
    "start_time = time.time()\n",
    "for number in range(len(numbers)):\n",
    "    numbers[number] = numbers[number]*2\n",
    "end_time = time.time()\n",
    "print(f\"Time taken for List: {end_time-start_time}\")"
   ]
  },
  {
   "cell_type": "code",
   "execution_count": 3,
   "id": "19e28677-9670-49a6-b7cc-ddadcd9a8bfa",
   "metadata": {},
   "outputs": [
    {
     "name": "stdout",
     "output_type": "stream",
     "text": [
      "Time taken for Numpy array: 0.09275174140930176\n"
     ]
    }
   ],
   "source": [
    "# Numpy array\n",
    "numbers = [1,2,3,4,5,6,7,8,9,10]*10000\n",
    "nums = np.array(numbers)\n",
    "start_time = time.time()\n",
    "for number in range(len(nums)):\n",
    "    nums[number] = nums[number]*2\n",
    "end_time = time.time()\n",
    "print(f\"Time taken for Numpy array: {end_time-start_time}\")"
   ]
  },
  {
   "cell_type": "code",
   "execution_count": 4,
   "id": "b73aedd2-2cb6-49c4-901b-d4fbc3735f44",
   "metadata": {},
   "outputs": [
    {
     "name": "stdout",
     "output_type": "stream",
     "text": [
      "List  size: 104\n",
      "Array size: 20\n"
     ]
    }
   ],
   "source": [
    "import sys\n",
    "a = [1,2,3,4,5]\n",
    "array = np.array(a)\n",
    "\n",
    "print(\"List  size:\",sys.getsizeof(a))  #Memory occupied by list \n",
    "print(\"Array size:\",array.nbytes)      #Memory occupied by array"
   ]
  },
  {
   "cell_type": "code",
   "execution_count": 5,
   "id": "e9f706e6-56cb-4c9e-9e1e-1bf3c4b16ed4",
   "metadata": {},
   "outputs": [
    {
     "name": "stdout",
     "output_type": "stream",
     "text": [
      "['1' 'a' 'apple' '1.2']\n"
     ]
    }
   ],
   "source": [
    "a = [1,'a',\"apple\",1.2]   #Numpy array allows only same type of data to be stored\n",
    "arr = np.array(a)\n",
    "print(arr) "
   ]
  },
  {
   "cell_type": "code",
   "execution_count": 6,
   "id": "d5c36e0b-c1cc-45f8-92fe-430f02472f7e",
   "metadata": {},
   "outputs": [],
   "source": [
    "import numpy as np  # alias as np"
   ]
  },
  {
   "cell_type": "code",
   "execution_count": 7,
   "id": "90bdd64e-f0a2-4058-bcb2-2722aa15ecc7",
   "metadata": {},
   "outputs": [
    {
     "name": "stdout",
     "output_type": "stream",
     "text": [
      "Dimension of array: 0\n",
      "Dimension of array: 0\n",
      "Dimension of array: 2\n",
      "Dimension of array: 3\n"
     ]
    }
   ],
   "source": [
    "zero_dimension_array = np.array(2)  #zero dimension array\n",
    "one_dimension_array = np.array([1,2,3,4,5])   # []: One dimension\n",
    "two_dimension_array = np.array([[1,2,3,4,5]])  #[[]] : Two diemsnion \n",
    "three_dimension_array = np.array([[[1,2,3,4,5]]])  #[[[]]] : Three diemsnion \n",
    "print(f\"Dimension of array: {zero_dimension_array.ndim}\")  \n",
    "print(f\"Dimension of array: {zero_dimension_array.ndim}\")\n",
    "print(f\"Dimension of array: {two_dimension_array.ndim}\")\n",
    "print(f\"Dimension of array: {three_dimension_array.ndim}\")"
   ]
  },
  {
   "cell_type": "code",
   "execution_count": 8,
   "id": "5e71380e-eb77-43c1-ba84-0a38d97ad658",
   "metadata": {},
   "outputs": [
    {
     "data": {
      "text/plain": [
       "array([ 1,  2,  3,  4,  5,  6,  7,  8,  9, 10])"
      ]
     },
     "execution_count": 8,
     "metadata": {},
     "output_type": "execute_result"
    }
   ],
   "source": [
    "elements = np.arange(1,11)  # (start,stop,steps): start = inclusive , stop = exlusive.\n",
    "elements"
   ]
  },
  {
   "cell_type": "code",
   "execution_count": 9,
   "id": "446d122d-eb30-49d0-bc19-c7f133dc0cd1",
   "metadata": {},
   "outputs": [
    {
     "name": "stdout",
     "output_type": "stream",
     "text": [
      "Evenly space numbers: [0.   0.25 0.5  0.75 1.  ]\n"
     ]
    }
   ],
   "source": [
    "arr = np.linspace(0,1,5)  # linspace(start,stop,number_of_values): creates evenly distributed values between start & stop\n",
    "print(\"Evenly space numbers:\",arr)"
   ]
  },
  {
   "cell_type": "code",
   "execution_count": 10,
   "id": "aa682099-6d5f-4dcb-8d52-19ab2683bee4",
   "metadata": {},
   "outputs": [
    {
     "name": "stdout",
     "output_type": "stream",
     "text": [
      "[  10.  100. 1000.]\n"
     ]
    }
   ],
   "source": [
    "logs = np.logspace(1,3,3) #logspace(start,stop,number_of_points): start = 10¹ , end = 10³ : no_of_points = 3\n",
    "print(logs)"
   ]
  },
  {
   "cell_type": "code",
   "execution_count": 11,
   "id": "94191833-c573-436c-af04-cfd248d20a94",
   "metadata": {},
   "outputs": [
    {
     "name": "stdout",
     "output_type": "stream",
     "text": [
      "1-D zeros array:\n",
      "[0 0 0 0 0]\n",
      "2-D zeros array:\n",
      "[[0 0 0 0]\n",
      " [0 0 0 0]]\n",
      "R-D zeros array:\n",
      "[[[[[0 0 0 0 0 0]\n",
      "    [0 0 0 0 0 0]\n",
      "    [0 0 0 0 0 0]\n",
      "    [0 0 0 0 0 0]\n",
      "    [0 0 0 0 0 0]]\n",
      "\n",
      "   [[0 0 0 0 0 0]\n",
      "    [0 0 0 0 0 0]\n",
      "    [0 0 0 0 0 0]\n",
      "    [0 0 0 0 0 0]\n",
      "    [0 0 0 0 0 0]]\n",
      "\n",
      "   [[0 0 0 0 0 0]\n",
      "    [0 0 0 0 0 0]\n",
      "    [0 0 0 0 0 0]\n",
      "    [0 0 0 0 0 0]\n",
      "    [0 0 0 0 0 0]]\n",
      "\n",
      "   [[0 0 0 0 0 0]\n",
      "    [0 0 0 0 0 0]\n",
      "    [0 0 0 0 0 0]\n",
      "    [0 0 0 0 0 0]\n",
      "    [0 0 0 0 0 0]]]\n",
      "\n",
      "\n",
      "  [[[0 0 0 0 0 0]\n",
      "    [0 0 0 0 0 0]\n",
      "    [0 0 0 0 0 0]\n",
      "    [0 0 0 0 0 0]\n",
      "    [0 0 0 0 0 0]]\n",
      "\n",
      "   [[0 0 0 0 0 0]\n",
      "    [0 0 0 0 0 0]\n",
      "    [0 0 0 0 0 0]\n",
      "    [0 0 0 0 0 0]\n",
      "    [0 0 0 0 0 0]]\n",
      "\n",
      "   [[0 0 0 0 0 0]\n",
      "    [0 0 0 0 0 0]\n",
      "    [0 0 0 0 0 0]\n",
      "    [0 0 0 0 0 0]\n",
      "    [0 0 0 0 0 0]]\n",
      "\n",
      "   [[0 0 0 0 0 0]\n",
      "    [0 0 0 0 0 0]\n",
      "    [0 0 0 0 0 0]\n",
      "    [0 0 0 0 0 0]\n",
      "    [0 0 0 0 0 0]]]\n",
      "\n",
      "\n",
      "  [[[0 0 0 0 0 0]\n",
      "    [0 0 0 0 0 0]\n",
      "    [0 0 0 0 0 0]\n",
      "    [0 0 0 0 0 0]\n",
      "    [0 0 0 0 0 0]]\n",
      "\n",
      "   [[0 0 0 0 0 0]\n",
      "    [0 0 0 0 0 0]\n",
      "    [0 0 0 0 0 0]\n",
      "    [0 0 0 0 0 0]\n",
      "    [0 0 0 0 0 0]]\n",
      "\n",
      "   [[0 0 0 0 0 0]\n",
      "    [0 0 0 0 0 0]\n",
      "    [0 0 0 0 0 0]\n",
      "    [0 0 0 0 0 0]\n",
      "    [0 0 0 0 0 0]]\n",
      "\n",
      "   [[0 0 0 0 0 0]\n",
      "    [0 0 0 0 0 0]\n",
      "    [0 0 0 0 0 0]\n",
      "    [0 0 0 0 0 0]\n",
      "    [0 0 0 0 0 0]]]]\n",
      "\n",
      "\n",
      "\n",
      " [[[[0 0 0 0 0 0]\n",
      "    [0 0 0 0 0 0]\n",
      "    [0 0 0 0 0 0]\n",
      "    [0 0 0 0 0 0]\n",
      "    [0 0 0 0 0 0]]\n",
      "\n",
      "   [[0 0 0 0 0 0]\n",
      "    [0 0 0 0 0 0]\n",
      "    [0 0 0 0 0 0]\n",
      "    [0 0 0 0 0 0]\n",
      "    [0 0 0 0 0 0]]\n",
      "\n",
      "   [[0 0 0 0 0 0]\n",
      "    [0 0 0 0 0 0]\n",
      "    [0 0 0 0 0 0]\n",
      "    [0 0 0 0 0 0]\n",
      "    [0 0 0 0 0 0]]\n",
      "\n",
      "   [[0 0 0 0 0 0]\n",
      "    [0 0 0 0 0 0]\n",
      "    [0 0 0 0 0 0]\n",
      "    [0 0 0 0 0 0]\n",
      "    [0 0 0 0 0 0]]]\n",
      "\n",
      "\n",
      "  [[[0 0 0 0 0 0]\n",
      "    [0 0 0 0 0 0]\n",
      "    [0 0 0 0 0 0]\n",
      "    [0 0 0 0 0 0]\n",
      "    [0 0 0 0 0 0]]\n",
      "\n",
      "   [[0 0 0 0 0 0]\n",
      "    [0 0 0 0 0 0]\n",
      "    [0 0 0 0 0 0]\n",
      "    [0 0 0 0 0 0]\n",
      "    [0 0 0 0 0 0]]\n",
      "\n",
      "   [[0 0 0 0 0 0]\n",
      "    [0 0 0 0 0 0]\n",
      "    [0 0 0 0 0 0]\n",
      "    [0 0 0 0 0 0]\n",
      "    [0 0 0 0 0 0]]\n",
      "\n",
      "   [[0 0 0 0 0 0]\n",
      "    [0 0 0 0 0 0]\n",
      "    [0 0 0 0 0 0]\n",
      "    [0 0 0 0 0 0]\n",
      "    [0 0 0 0 0 0]]]\n",
      "\n",
      "\n",
      "  [[[0 0 0 0 0 0]\n",
      "    [0 0 0 0 0 0]\n",
      "    [0 0 0 0 0 0]\n",
      "    [0 0 0 0 0 0]\n",
      "    [0 0 0 0 0 0]]\n",
      "\n",
      "   [[0 0 0 0 0 0]\n",
      "    [0 0 0 0 0 0]\n",
      "    [0 0 0 0 0 0]\n",
      "    [0 0 0 0 0 0]\n",
      "    [0 0 0 0 0 0]]\n",
      "\n",
      "   [[0 0 0 0 0 0]\n",
      "    [0 0 0 0 0 0]\n",
      "    [0 0 0 0 0 0]\n",
      "    [0 0 0 0 0 0]\n",
      "    [0 0 0 0 0 0]]\n",
      "\n",
      "   [[0 0 0 0 0 0]\n",
      "    [0 0 0 0 0 0]\n",
      "    [0 0 0 0 0 0]\n",
      "    [0 0 0 0 0 0]\n",
      "    [0 0 0 0 0 0]]]]]\n"
     ]
    }
   ],
   "source": [
    "zeros_1d = np.zeros(5,int)      #array full of zeros having 1-Dimension\n",
    "zeros_2d = np.zeros((2,4),int)  #array full of zeros having 2-Dimensions.\n",
    "zeros_random_dimensions = np.zeros((2,3,4,5,6),int)\n",
    "print(f\"1-D zeros array:\\n{zeros_1d}\")\n",
    "print(f\"2-D zeros array:\\n{zeros_2d}\")\n",
    "print(f\"R-D zeros array:\\n{zeros_random_dimensions}\")"
   ]
  },
  {
   "cell_type": "code",
   "execution_count": 12,
   "id": "f3a388c3-a36a-44a2-a8b9-93171e165133",
   "metadata": {},
   "outputs": [
    {
     "name": "stdout",
     "output_type": "stream",
     "text": [
      "1-D ones array\n",
      "[1 1]\n",
      "2-D ones array\n",
      "[[1 1 1]\n",
      " [1 1 1]\n",
      " [1 1 1]]\n"
     ]
    }
   ],
   "source": [
    "ones_1d = np.ones(2,int)      #array full of ones having 1-Dimension\n",
    "ones_3d = np.ones((3,3),int)  #array full of ones having 3-Dimensions\n",
    "print(f\"1-D ones array\\n{ones_1d}\")\n",
    "print(f\"2-D ones array\\n{ones_3d}\")"
   ]
  },
  {
   "cell_type": "code",
   "execution_count": 13,
   "id": "8c1706b0-3767-41fc-a404-52c7081dc0e0",
   "metadata": {},
   "outputs": [
    {
     "name": "stdout",
     "output_type": "stream",
     "text": [
      "1-D Full array:\n",
      "[3 3 3 3 3 3 3 3 3 3]\n",
      "2-D full array:\n",
      "[[4 4]\n",
      " [4 4]]\n"
     ]
    }
   ],
   "source": [
    "full_1d = np.full(10,3)    #full(elements,default_value): createes array full of 1-D having our choosen value\n",
    "full_2d = np.full([2,2],4) #full(elements,default_value): createes array full of 2-D having our choosen value\n",
    "\n",
    "print(f\"1-D Full array:\\n{full_1d}\")\n",
    "print(f\"2-D full array:\\n{full_2d}\")"
   ]
  },
  {
   "cell_type": "code",
   "execution_count": 14,
   "id": "330d0956-ef4e-421f-af35-3b209a424930",
   "metadata": {},
   "outputs": [
    {
     "name": "stdout",
     "output_type": "stream",
     "text": [
      "Uninitialized array:\n",
      "[[6.23042070e-307 4.67296746e-307 1.69121096e-306]\n",
      " [1.33511290e-306 6.23058368e-307 2.22526399e-307]]\n"
     ]
    }
   ],
   "source": [
    "uninitialized_array = np.empty([2,3])  #uninitialized array : faster and used for overriding values in future usages.\n",
    "print(f\"Uninitialized array:\\n{uninitialized_array}\")"
   ]
  },
  {
   "cell_type": "code",
   "execution_count": 15,
   "id": "7b205356-6604-4459-948d-d60a446749ff",
   "metadata": {},
   "outputs": [
    {
     "name": "stdout",
     "output_type": "stream",
     "text": [
      "1-D random uniform distributed floats:\n",
      "[0.09855168 0.45081092 0.899945   0.33252248 0.50073496 0.99524789\n",
      " 0.33217222 0.71536612 0.78315176 0.21388364]\n",
      "2-D random uniform distributed floats:\n",
      "[[0.80413103 0.83364654 0.71305313]\n",
      " [0.25114783 0.21088146 0.3035528 ]]\n"
     ]
    }
   ],
   "source": [
    "random_uniform_floats_1d = np.random.rand(10)   #generates random uniformly-distributed floating values between 0-1 of 1-D\n",
    "random_uniform_floats_2d = np.random.rand(2,3)  #generates random uniformly-distributed floating values between 0-1 of 2-D\n",
    "print(f\"1-D random uniform distributed floats:\\n{random_uniform_floats_1d}\")\n",
    "print(f\"2-D random uniform distributed floats:\\n{random_uniform_floats_2d}\")"
   ]
  },
  {
   "cell_type": "code",
   "execution_count": 16,
   "id": "980eeefc-9373-4bfe-b288-153ec8a74a1d",
   "metadata": {},
   "outputs": [
    {
     "name": "stdout",
     "output_type": "stream",
     "text": [
      "1-D random normal distributed floats:\n",
      "0.4028192031414143\n",
      "2-D random normal distributed floats:\n",
      "[[-1.28216919  0.60405091 -0.9810478 ]\n",
      " [-3.3153687   1.72761037  0.59182689]]\n"
     ]
    }
   ],
   "source": [
    "random_normal_floats_1d = np.random.randn()    #generates random normal-dstributed floating values having mean = 0 & std = 1 of 1-D\n",
    "random_normal_floats_2d = np.random.randn(2,3) #generates random normal-dstributed floating values having mean = 0 & std = 1 of 2-D\n",
    "print(f\"1-D random normal distributed floats:\\n{random_normal_floats_1d}\")\n",
    "print(f\"2-D random normal distributed floats:\\n{random_normal_floats_2d}\")"
   ]
  },
  {
   "cell_type": "code",
   "execution_count": 17,
   "id": "f70866f2-cbcf-4b4c-be39-37318f31dac5",
   "metadata": {},
   "outputs": [
    {
     "name": "stdout",
     "output_type": "stream",
     "text": [
      "Random number:\n",
      "88\n",
      "Random numbers :\n",
      "[[70 21 98 62 44 32 50 58 60 31]\n",
      " [98 80 74 31 78 84 27 54 94 56]\n",
      " [89 58 65 11 43 57 40 15 60 42]\n",
      " [25 68 17 60 90 11 65 38 14 80]\n",
      " [38 24 52 87 46 69 83 88 89 71]]\n"
     ]
    }
   ],
   "source": [
    "random_number = np.random.randint(10,100)               #any 1-random integer between 10 and 100\n",
    "random_numbers = np.random.randint(10,100,size=(5,10))  #multiple-random integers  between 10 and 100 (5*10)=50 elements\n",
    "print(f\"Random number:\\n{random_number}\")\n",
    "print(f\"Random numbers :\\n{random_numbers}\")"
   ]
  },
  {
   "cell_type": "markdown",
   "id": "9a3b99cd-0b20-439a-aea8-d6943e17b33c",
   "metadata": {},
   "source": [
    "## Numpy Data Types\n",
    "* i for integer\n",
    "* b for boolean\n",
    "* u for unsigned integer\n",
    "* f for float\n",
    "* c for complex float\n",
    "* m for timedelta\n",
    "* M for datetime\n",
    "* O for Object\n",
    "* S for Strings\n",
    "* U for unicode string\n",
    "* V for memory\n",
    "##### Note: Use dtype function to check the type of each structure"
   ]
  },
  {
   "cell_type": "code",
   "execution_count": 18,
   "id": "9f50c73c-bbf9-4b8b-822b-5f9a60a6699e",
   "metadata": {},
   "outputs": [
    {
     "name": "stdout",
     "output_type": "stream",
     "text": [
      "Array values: [1 2 3 4 5 6]\n",
      "Array type: int32\n"
     ]
    }
   ],
   "source": [
    "numbers_array = np.array([1,2,3,4,5,6])\n",
    "print(f\"Array values: {numbers_array}\")\n",
    "print(f\"Array type: {numbers_array.dtype}\")"
   ]
  },
  {
   "cell_type": "code",
   "execution_count": 19,
   "id": "4dd9efee-01b6-4fbd-8d69-d3925f8d3e6a",
   "metadata": {},
   "outputs": [
    {
     "name": "stdout",
     "output_type": "stream",
     "text": [
      "List Array values: ['string' '1' '2' '5.6']\n",
      "List Array type: <U32\n"
     ]
    }
   ],
   "source": [
    "my_list = [\"string\",1,2,5.6]\n",
    "list_array = np.array(my_list)\n",
    "print(f\"List Array values: {list_array}\")\n",
    "print(f\"List Array type: {list_array.dtype}\")"
   ]
  },
  {
   "cell_type": "code",
   "execution_count": 20,
   "id": "fc835741-f9cf-4eee-8952-c3d59cd3025b",
   "metadata": {},
   "outputs": [
    {
     "name": "stdout",
     "output_type": "stream",
     "text": [
      "dtype of integer_array: float64\n",
      "dtype of float_array: int32\n"
     ]
    }
   ],
   "source": [
    "integer_array = np.array([1,2,3,4,5.4],dtype=float)     #assigning customized datatype to the array elements\n",
    "float_array = np.array([1.2,2.2,3.3,4.4,5.5],dtype=int) #assigning customized datatype to the array elements\n",
    "print(f\"dtype of integer_array: {integer_array.dtype}\")\n",
    "print(f\"dtype of float_array: {float_array.dtype}\")"
   ]
  },
  {
   "cell_type": "markdown",
   "id": "d936b007-4283-40fe-8791-393abb06e34c",
   "metadata": {},
   "source": [
    "### Type Casting: Converting elements from datatype to another datatype using astype() function"
   ]
  },
  {
   "cell_type": "code",
   "execution_count": 21,
   "id": "f16cd3f2-637e-421c-a2d3-5a65f27c1e19",
   "metadata": {},
   "outputs": [
    {
     "name": "stdout",
     "output_type": "stream",
     "text": [
      "Array values: [1. 2. 3. 4. 5.]\n",
      "Array data type: float64\n",
      "Array values: [1 3 4 5]\n",
      "Array data type: int32\n"
     ]
    }
   ],
   "source": [
    "int_array = np.array([1,2,3,4,5])\n",
    "new_float_array = int_array.astype(float)\n",
    "print(f\"Array values: {new_float_array}\")\n",
    "print(f\"Array data type: {new_float_array.dtype}\")\n",
    "\n",
    "floating_array = np.array([1.2,3.4,4.4,5.5])\n",
    "new_int_array = floating_array.astype(int)\n",
    "print(f\"Array values: {new_int_array}\")\n",
    "print(f\"Array data type: {new_int_array.dtype}\")"
   ]
  },
  {
   "cell_type": "markdown",
   "id": "8c7cfdea-fb28-4f6b-af1e-90036f5c693f",
   "metadata": {},
   "source": [
    "#### Type Casting Errors"
   ]
  },
  {
   "cell_type": "code",
   "execution_count": 22,
   "id": "17f67646-de75-4386-8989-290c0dd9f72d",
   "metadata": {},
   "outputs": [
    {
     "name": "stdout",
     "output_type": "stream",
     "text": [
      "Converted array: [1 2 3]\n"
     ]
    }
   ],
   "source": [
    "string_array = np.array([\"1\",\"2\",\"3\"])  #Converting string numbers into integer values\n",
    "in_array_1 = string_array.astype(int)\n",
    "print(\"Converted array:\",in_array_1)\n",
    "\n",
    "# string_array = np.array([\"1\",\"2\",\"3\",\"hello\"]) #Converting string numbers and literal into integer values (Error)\n",
    "# in_array_2 = string_array.astype(int)\n",
    "# print(\"Converted array:\",in_array_2)"
   ]
  },
  {
   "cell_type": "markdown",
   "id": "26e6077a-67ef-4bc1-bab0-9abda7885ac5",
   "metadata": {},
   "source": [
    "#### Multi-dimensional arrays using np.array function"
   ]
  },
  {
   "cell_type": "code",
   "execution_count": 23,
   "id": "a859d196-22db-4484-986e-3b6b6192b3e6",
   "metadata": {},
   "outputs": [
    {
     "name": "stdout",
     "output_type": "stream",
     "text": [
      "Multi-array values:\n",
      "[[1 2 3]\n",
      " [4 5 6]]\n",
      "Multi-array shape: (2, 3) = (rows,columns)\n",
      "Multi-array size: 6\n",
      "Multi-array dimension: int32\n",
      "Size of each item/element in an array: 4 bytes\n"
     ]
    }
   ],
   "source": [
    "# multi_array = np.array([1,2,3],\n",
    "#                       [2,4,5])   #shows an error: We can only pass one list to the np.array() function\n",
    "\n",
    "multi_array = np.array([[1,2,3],\n",
    "                        [4,5,6]])    #Works well: Now it is considered as a one list\n",
    "print(f\"Multi-array values:\\n{multi_array}\")\n",
    "print(f\"Multi-array shape: {multi_array.shape} = (rows,columns)\")\n",
    "print(f\"Multi-array size: {multi_array.size}\")\n",
    "print(f\"Multi-array dimension: {multi_array.dtype}\")\n",
    "print(f\"Size of each item/element in an array: {multi_array.itemsize} bytes\")"
   ]
  },
  {
   "cell_type": "markdown",
   "id": "48f5a58d-07d6-471f-8955-8f85b8b5d613",
   "metadata": {},
   "source": [
    "### Reshaping arrays using: Reshape, Ravel, Flatten\n",
    "##### Note: Ravel : Returns view of original array ,  Flatten : Returns copy of original array"
   ]
  },
  {
   "cell_type": "code",
   "execution_count": 24,
   "id": "d7700164-b935-4636-b083-b6d635a3b980",
   "metadata": {},
   "outputs": [
    {
     "name": "stdout",
     "output_type": "stream",
     "text": [
      "_______ Reshaped function ________\n",
      "Original array:\n",
      "[1 2 3 4 5 6]\n",
      "Reshaped array:\n",
      "[[1 2]\n",
      " [3 4]\n",
      " [5 6]]\n",
      "New Reshaped array:\n",
      "[[1 2 3 4 5 6]]\n",
      "Dimension: 1\n",
      "Dimension: 2\n",
      "Dimension: 2\n",
      "\n",
      "_______ Ravel function ________\n",
      "Ravel array-1: [1 2 3 4 5 6]\n",
      "Ravel array-2: [1 2 3 4 5 6]\n",
      "Dimension: 1\n",
      "Dimension: 1\n",
      "Originla array:\n",
      "[[1000    2]\n",
      " [   3    4]\n",
      " [   5    6]]\n",
      "Ravel array:\n",
      "[1000    2    3    4    5    6]\n",
      "\n",
      "_______ Flatten function ________\n",
      "Flatten array-1: [1000    2    3    4    5    6]\n",
      "Flatten array-2: [1000    2    3    4    5    6]\n",
      "Dimension: 1\n",
      "Dimension: 1\n",
      "Originla array:\n",
      "[[1000    2]\n",
      " [   3    4]\n",
      " [   5    6]]\n",
      "Flatten array:\n",
      "[2000    2    3    4    5    6]\n"
     ]
    }
   ],
   "source": [
    "array_1d = np.array([1,2,3,4,5,6])   \n",
    "reshaped_array = array_1d.reshape(3,2) \n",
    "new_reshaped_array = reshaped_array.reshape(1,6)  #Converting into same but shape of array will be changed form 1-D -> 2-D\n",
    "print(\"_______ Reshaped function ________\")\n",
    "print(f\"Original array:\\n{array_1d}\")  #1-Dimension array of rows =1, columns=6\n",
    "print(f\"Reshaped array:\\n{reshaped_array}\") #2-Dimension array of rows = 3, columns=2 \n",
    "print(f\"New Reshaped array:\\n{new_reshaped_array}\") #2-Dimesion array of rows = 1, columns=6 \n",
    "print(f\"Dimension: {array_1d.ndim}\")\n",
    "print(f\"Dimension: {reshaped_array.ndim}\")\n",
    "print(f\"Dimension: {new_reshaped_array.ndim}\\n\")\n",
    "\n",
    "# ravel(): Converts any type of array into 1-D array (Returns: View)\n",
    "print(\"_______ Ravel function ________\")\n",
    "ravel_array_1 = reshaped_array.ravel()\n",
    "ravel_array_2 = new_reshaped_array.ravel()\n",
    "\n",
    "print(f\"Ravel array-1: {ravel_array_1}\")\n",
    "print(f\"Ravel array-2: {ravel_array_2}\")\n",
    "print(f\"Dimension: {ravel_array_1.ndim}\")\n",
    "print(f\"Dimension: {ravel_array_2.ndim}\")\n",
    "ravel_array_1[0] = 1000  #Modifying 1 with 1000 value and then checking both the arrays (Changes reflected in original array)\n",
    "print(f\"Originla array:\\n{reshaped_array}\")\n",
    "print(f\"Ravel array:\\n{ravel_array_1}\\n\")\n",
    "\n",
    "# flatten(): Converts any type of array into 1-D array (Returns: Copy)\n",
    "print(\"_______ Flatten function ________\")\n",
    "flatten_array_1 = reshaped_array.flatten()\n",
    "flatten_array_2 = new_reshaped_array.flatten()\n",
    "print(f\"Flatten array-1: {flatten_array_1}\")\n",
    "print(f\"Flatten array-2: {flatten_array_2}\")\n",
    "print(f\"Dimension: {flatten_array_1.ndim}\")\n",
    "print(f\"Dimension: {flatten_array_2.ndim}\")\n",
    "flatten_array_1[0] = 2000 #Modifying 1 with 2000 value and then checking both the arrays (Changes don't reflected in original array)\n",
    "print(f\"Originla array:\\n{reshaped_array}\")\n",
    "print(f\"Flatten array:\\n{flatten_array_1}\")"
   ]
  },
  {
   "cell_type": "markdown",
   "id": "3fe0bd78-00fd-4349-88f5-f4606797a8c6",
   "metadata": {},
   "source": [
    "## Arithmetic Operations"
   ]
  },
  {
   "cell_type": "code",
   "execution_count": 25,
   "id": "c0a38307-47d7-4f7e-bfc7-1debad906e0f",
   "metadata": {},
   "outputs": [
    {
     "name": "stdout",
     "output_type": "stream",
     "text": [
      "Original arrays: [1 2 3] and [4 5 2]\n",
      "Addition: [5 7 5]\n",
      "Subtraction: [-3 -3  1]\n",
      "Product: [ 4 10  6]\n",
      "Division: [0.25 0.4  1.5 ]\n",
      "Integer division: [0 0 1]\n",
      "Remainder: [1 2 1]\n",
      "Exponent: [ 1 32  9]\n"
     ]
    }
   ],
   "source": [
    "A = np.array([1,2,3])\n",
    "B = np.array([4,5,2])\n",
    "\n",
    "addition = A+B         #addition\n",
    "subtraction = A-B      #subtraction\n",
    "product = A*B          #product\n",
    "division = A/B         #division\n",
    "floor_division = A//B  #floor-division\n",
    "remainder = A%B        #remainder\n",
    "exponent = A**B        #exponent\n",
    "\n",
    "print(f\"Original arrays: {A} and {B}\")\n",
    "print(f\"Addition: {addition}\")\n",
    "print(f\"Subtraction: {subtraction}\")\n",
    "print(f\"Product: {product}\")\n",
    "print(f\"Division: {division}\")\n",
    "print(f\"Integer division: {floor_division}\")\n",
    "print(f\"Remainder: {remainder}\")\n",
    "print(f\"Exponent: {exponent}\")"
   ]
  },
  {
   "cell_type": "markdown",
   "id": "5118d05f-11aa-42e8-b3a3-f53c6ed2e71b",
   "metadata": {},
   "source": [
    "### Universal Functions : Built-in Math Functions"
   ]
  },
  {
   "cell_type": "code",
   "execution_count": 26,
   "id": "617422d5-1d7f-4114-9893-f3a619d8ec71",
   "metadata": {},
   "outputs": [
    {
     "name": "stdout",
     "output_type": "stream",
     "text": [
      "Original array: [ 1  4  9 16]\n",
      "Square root: [1. 2. 3. 4.]\n",
      "Result of e¹ and e²: [2.71828183 7.3890561 ]\n",
      "Sin of angles [0, 3.141592653589793, 1.5707963267948966] are: [0.0000000e+00 1.2246468e-16 1.0000000e+00]\n"
     ]
    }
   ],
   "source": [
    "new_arr = np.array([1,4,9,16])\n",
    "square_root = np.sqrt(new_arr)\n",
    "exponential = np.exp([1,2])   #e¹ and e²\n",
    "angles = [0,np.pi, np.pi/2]\n",
    "sin_function = np.sin(angles)\n",
    "\n",
    "print(f\"Original array: {new_arr}\")\n",
    "print(f\"Square root: {square_root}\")\n",
    "print(f\"Result of e¹ and e²: {exponential}\")\n",
    "print(f\"Sin of angles {angles} are: {sin_function}\") #sin(π) = 1.2246468e-16 ⩰ 0"
   ]
  },
  {
   "cell_type": "markdown",
   "id": "06ac06f9-da56-425c-a833-b8964ae17194",
   "metadata": {},
   "source": [
    "## Indexing and Slicing"
   ]
  },
  {
   "cell_type": "code",
   "execution_count": 27,
   "id": "836c75a4-1145-46cc-a499-525c86348549",
   "metadata": {},
   "outputs": [
    {
     "name": "stdout",
     "output_type": "stream",
     "text": [
      "Orignal array: [ 1  2  3  4  5  6  7  8  9 10]\n",
      "\n",
      "_________ Indexing _________\n",
      "Value at first index: 1\n",
      "Value at last  index: 10\n",
      "\n",
      "_________ Slicing _________\n",
      "First 4 values: [1 2 3 4]\n",
      "Last  4 values: [10  9  8  7]\n",
      "Reversed array values: [10  9  8  7  6  5  4  3  2  1]\n",
      "Every second element: [1 3 5 7 9]\n",
      "Odd elements:[1 3 5 7 9]\n",
      "Even elements:[ 2  4  6  8 10]\n",
      "1st and 2nd row elements:\n",
      "[[1 2 3]\n",
      " [4 5 6]]\n",
      "2nd Column elements:\n",
      "[[2]\n",
      " [5]\n",
      " [8]]\n",
      "Part of 2nd and 3rd rows:\n",
      "[[5 6]\n",
      " [8 9]]\n",
      "Taking elements from particular indices using take funciton:[1 3 4]\n",
      "Elements in 2-d Array: 1 2 3 4 Position: (0, 0), Value: 1\n",
      "Position: (0, 1), Value: 2\n",
      "Position: (1, 0), Value: 3\n",
      "Position: (1, 1), Value: 4\n"
     ]
    }
   ],
   "source": [
    "nums_array = np.array([1,2,3,4,5,6,7,8,9,10])\n",
    "print(f\"Orignal array: {nums_array}\\n\")\n",
    " \n",
    "print(\"_________ Indexing _________\")\n",
    "print(f\"Value at first index: {nums_array[0]}\")   #first element (indexing)\n",
    "print(f\"Value at last  index: {nums_array[-1]}\\n\")  #last element  (indexing)\n",
    "print(\"_________ Slicing _________\")\n",
    "print(f\"First 4 values: {nums_array[0:4]}\")      #first 4 elements (slicing)\n",
    "print(f\"Last  4 values: {nums_array[-1:-5:-1]}\") #last  4 elements (negative-slicing)\n",
    "print(f\"Reversed array values: {nums_array[::-1]}\")\n",
    "print(f\"Every second element: {nums_array[::2]}\")\n",
    "\n",
    "odds = nums_array[::2]\n",
    "evens = nums_array[1::2]\n",
    "print(f\"Odd elements:{odds}\")\n",
    "print(f\"Even elements:{evens}\")\n",
    "\n",
    "\n",
    "matrix = np.array([[1,2,3],\n",
    "                   [4,5,6],\n",
    "                   [7,8,9]])\n",
    "\n",
    "print(f\"1st and 2nd row elements:\\n{matrix[0:2,:]}\")   #matrix[rows_slicing,columns_slicing]\n",
    "print(f\"2nd Column elements:\\n{matrix[0:3,1:2]}\")\n",
    "print(f\"Part of 2nd and 3rd rows:\\n{matrix[1:,1:]}\")\n",
    "\n",
    "# Advanced indexing\n",
    "indices = [0,2,3]\n",
    "print(f\"Taking elements from particular indices using take funciton:{np.take(matrix,indices)}\")\n",
    "\n",
    "# Iterating with nditer (Looping through arrays regardless of it's shape)\n",
    "arr_2d = np.array([[1,2],[3,4]])\n",
    "print(\"Elements in 2-d Array:\",end=\" \")\n",
    "for element in np.nditer(arr_2d):\n",
    "    print(element,end=\" \")\n",
    "\n",
    "# Iterating with ndenumerate (Looping through arrays accessing both element and indices)\n",
    "for index,element in np.ndenumerate(arr_2d):\n",
    "    print(f\"Position: {index}, Value: {element}\")"
   ]
  },
  {
   "cell_type": "markdown",
   "id": "1fc45aa6-ba27-4e4f-ab9d-7d8874ffa4a2",
   "metadata": {},
   "source": [
    "## Copy VS View"
   ]
  },
  {
   "cell_type": "code",
   "execution_count": 28,
   "id": "db37fcfd-2958-425c-9ae4-f2ebcf9ab7ab",
   "metadata": {},
   "outputs": [
    {
     "name": "stdout",
     "output_type": "stream",
     "text": [
      "Original array: [1 2 3 4 5]\n",
      "View of an array: [2 3]\n",
      "________ Modifying view ________\n",
      "Original array:[  1 100   3   4   5]\n",
      "View after modifications: [100   3]\n",
      "\n",
      "Original array: [  1 100   3   4   5]\n",
      "Copy of an array: [100   3]\n",
      "________ Modifying copy ________\n",
      "Original array:[  1 100   3   4   5]\n",
      "Copy after modifications: [200   3]\n"
     ]
    }
   ],
   "source": [
    "values = np.array([1,2,3,4,5])\n",
    "view = values[1:3]  #creating view of 2nd and 3rd element\n",
    "print(f\"Original array: {values}\")\n",
    "print(f\"View of an array: {view}\")\n",
    "print(\"________ Modifying view ________\")\n",
    "view[0] = 100  #changing the first element of a view\n",
    "print(f\"Original array:{values}\") #changed\n",
    "print(f\"View after modifications: {view}\\n\")\n",
    "\n",
    "copy = values[1:3].copy()\n",
    "print(f\"Original array: {values}\")\n",
    "print(f\"Copy of an array: {copy}\")\n",
    "print(\"________ Modifying copy ________\")\n",
    "copy[0] = 200 #changing the first element of a copy\n",
    "print(f\"Original array:{values}\")  #doesn't changed\n",
    "print(f\"Copy after modifications: {copy}\")"
   ]
  },
  {
   "cell_type": "markdown",
   "id": "b92436cf-ba34-4e86-8e63-82b93b5a043e",
   "metadata": {},
   "source": [
    "### Transpose & Swapaxes"
   ]
  },
  {
   "cell_type": "code",
   "execution_count": 31,
   "id": "e68c7c9d-a3b3-407a-a2b5-5005ba8eeccb",
   "metadata": {},
   "outputs": [
    {
     "name": "stdout",
     "output_type": "stream",
     "text": [
      "Original matrix\n",
      "[[1 2 3]\n",
      " [4 5 6]]\n",
      "Transpose of matrix\n",
      "[[1 4]\n",
      " [2 5]\n",
      " [3 6]]\n",
      "Shape of Original matrix: (2, 3)\n",
      "Shape of Transposed matrix: (3, 2)\n",
      "Shape of original array: (1, 2, 2)\n",
      "Shape after swapping axes: (2, 1, 2)\n"
     ]
    }
   ],
   "source": [
    "matrix_2 = np.array([[1,2,3],\n",
    "                     [4,5,6]])\n",
    "transposed_matrix = np.transpose(matrix_2)\n",
    "\n",
    "print(f\"Original matrix\\n{matrix_2}\")\n",
    "print(f\"Transpose of matrix\\n{transposed_matrix}\")\n",
    "\n",
    "print(f\"Shape of Original matrix: {matrix_2.shape}\")\n",
    "print(f\"Shape of Transposed matrix: {transposed_matrix.shape}\")\n",
    "\n",
    "my_arr = np.array([[[1,2],[3,4]]])\n",
    "shape1 = my_arr.shape\n",
    "print(f\"Shape of original array: {shape1}\")\n",
    "swap = np.swapaxes(my_arr,0,1)\n",
    "shape2 = swap.shape  #shape after swapping axes\n",
    "print(f\"Shape after swapping axes: {shape2}\")"
   ]
  },
  {
   "cell_type": "markdown",
   "id": "dbc3a411-6afa-4a2c-8807-904fad6f68c7",
   "metadata": {},
   "source": [
    "### Stacking & Splitting"
   ]
  },
  {
   "cell_type": "code",
   "execution_count": 58,
   "id": "2a6b3233-7c19-467b-a87d-4713ffd9411b",
   "metadata": {},
   "outputs": [
    {
     "name": "stdout",
     "output_type": "stream",
     "text": [
      "Original array-1: [[1 2]\n",
      " [3 4]]\n",
      "Original array-2: [[5 6]\n",
      " [7 8]]\n",
      "Combined array\n",
      "[[1 2]\n",
      " [3 4]\n",
      " [5 6]\n",
      " [7 8]]\n",
      "Vertical stacked array\n",
      "[[1 2]\n",
      " [3 4]\n",
      " [5 6]\n",
      " [7 8]]\n",
      "Horizontal stacked array\n",
      "[[1 2 5 6]\n",
      " [3 4 7 8]]\n",
      "Row wise stacking:\n",
      "[[[1 2]\n",
      "  [3 4]]\n",
      "\n",
      " [[5 6]\n",
      "  [7 8]]]\n",
      "Column wise stacking:\n",
      "[[[1 2]\n",
      "  [5 6]]\n",
      "\n",
      " [[3 4]\n",
      "  [7 8]]]\n",
      "Original array:\n",
      "[[1 2]\n",
      " [3 4]]\n",
      "Splitted array:\n",
      "[array([[1, 2]]), array([[3, 4]])]\n",
      "Original array:\n",
      "[[1 2]\n",
      " [3 4]]\n",
      "Repeated array: [1 1 2 2 3 3 4 4]\n",
      "Original array:\n",
      "[[1 2]\n",
      " [3 4]]\n",
      "Tile array:\n",
      "[[1 2 1 2]\n",
      " [3 4 3 4]]\n"
     ]
    }
   ],
   "source": [
    "ar1 = np.array([[1,2],[3,4]])\n",
    "ar2 = np.array([[5,6],[7,8]])\n",
    "\n",
    "print(f\"Original array-1: {ar1}\")\n",
    "print(f\"Original array-2: {ar2}\")\n",
    "\n",
    "combined_array = np.concatenate((ar1,ar2))\n",
    "print(f\"Combined array\\n{combined_array}\")\n",
    "\n",
    "#Vertical Stacking: vstack\n",
    "vertical_stack = np.vstack((ar1,ar2))\n",
    "print(f\"Vertical stacked array\\n{vertical_stack}\")\n",
    "\n",
    "#Horizontal Stacking: hstack  (array1 --> <--- array2)\n",
    "horizontal_stack = np.hstack((ar1,ar2))\n",
    "print(f\"Horizontal stacked array\\n{horizontal_stack}\")\n",
    "\n",
    "#Stack based on the axis\n",
    "# Axis = 0 : Row wise stacking (vertically)\n",
    "# Axis = 1 : Column wise stacking (horizontally)\n",
    "row_wise_stacked = np.stack((ar1,ar2),axis=0)\n",
    "print(f\"Row wise stacking:\\n{row_wise_stacked}\")\n",
    "column_wise_stacked = np.stack((ar1,ar2),axis=1)\n",
    "print(f\"Column wise stacking:\\n{column_wise_stacked}\")\n",
    "\n",
    "\n",
    "print(f\"Original array:\\n{ar1}\")\n",
    "splitted_array = np.split(ar1,2)  #split(array_name,no_of_splits) : no_of_splits = satisfies equal division rule\n",
    "print(f\"Splitted array:\\n{splitted_array}\")\n",
    "\n",
    "# Repeating array \n",
    "print(f\"Original array:\\n{ar1}\")\n",
    "repeated_array = np.repeat(ar1,2)\n",
    "print(f\"Repeated array: {repeated_array}\")  #each element of array is repeated twice\n",
    "\n",
    "# Tile\n",
    "print(f\"Original array:\\n{ar1}\")\n",
    "tile_array = np.tile(ar1,2)\n",
    "print(f\"Tile array:\\n{tile_array}\")   #repeats array itself twice time (Not the elmeents)"
   ]
  },
  {
   "cell_type": "markdown",
   "id": "7827091f-692c-41d2-b0d8-e3f1dbee1cd9",
   "metadata": {},
   "source": [
    "### Aggregate Functions"
   ]
  },
  {
   "cell_type": "code",
   "execution_count": 66,
   "id": "d5b36cd6-c401-44ca-9d3d-6395bfa26bc2",
   "metadata": {},
   "outputs": [
    {
     "name": "stdout",
     "output_type": "stream",
     "text": [
      "Sum of elements: 55\n",
      "Average of elements: 5.5\n",
      "Median: 5.5\n",
      "Standard Deviation: 2.8722813232690143\n",
      "Variance: 8.25\n",
      "Maximum value: 10\n",
      "Minimum value: 1\n"
     ]
    }
   ],
   "source": [
    "my_nums = np.array([1,2,3,4,5,6,7,8,9,10])\n",
    "\n",
    "sum_of_elements = np.sum(my_nums)\n",
    "average_of_elements = np.average(my_nums)\n",
    "median = np.median(my_nums)\n",
    "standard_deviation = np.std(my_nums)  #standard_deviation: How spread our data is\n",
    "variance = np.var(my_nums)   #Variance = (standard_deviation)²\n",
    "maximum_value = np.max(my_nums)\n",
    "minimum_value = np.min(my_nums)\n",
    "\n",
    "print(f\"Sum of elements: {sum_of_elements}\")\n",
    "print(f\"Average of elements: {average_of_elements}\")\n",
    "print(f\"Median: {median}\")\n",
    "print(f\"Standard Deviation: {standard_deviation}\")\n",
    "print(f\"Variance: {variance}\")\n",
    "print(f\"Maximum value: {maximum_value}\")\n",
    "print(f\"Minimum value: {minimum_value}\")"
   ]
  },
  {
   "cell_type": "markdown",
   "id": "4d87cd35-99f0-4142-870f-c538600440d3",
   "metadata": {},
   "source": [
    "### Axis Based Operations"
   ]
  },
  {
   "cell_type": "code",
   "execution_count": 73,
   "id": "833f542c-417c-43b7-a06d-c96b18a78f7e",
   "metadata": {},
   "outputs": [
    {
     "name": "stdout",
     "output_type": "stream",
     "text": [
      "Sum of all columns: [ 6 15 24]\n",
      "Sum of all rows: [12 15 18]\n",
      "Cumulative sum: [ 1  3  6 10 15 21 28 36 45]\n",
      "Cumulative product: [     1      2      6     24    120    720   5040  40320 362880]\n"
     ]
    }
   ],
   "source": [
    "matrix_A = [[1,2,3],\n",
    "            [4,5,6],\n",
    "            [7,8,9]]\n",
    "sum_of_columns = np.sum(matrix_A,axis=1)\n",
    "print(f\"Sum of all columns: {sum_of_columns}\")\n",
    "\n",
    "sum_of_rows = np.sum(matrix_A, axis=0)\n",
    "print(f\"Sum of all rows: {sum_of_rows}\")\n",
    "\n",
    "cumulative_sum = np.cumsum(matrix_A)      #cumulative sum: Sn = x₁+x₂+x₃+x₄+...xn\n",
    "print(f\"Cumulative sum: {cumulative_sum}\")  \n",
    "\n",
    "cumulative_product = np.cumprod(matrix_A) #cumulative product: Pn = x₁*x₂*x₃*x₄*...xn\n",
    "print(f\"Cumulative product: {cumulative_product}\")"
   ]
  },
  {
   "cell_type": "markdown",
   "id": "d701c48d-65e2-4f4e-b1c6-f705fed404e2",
   "metadata": {},
   "source": [
    "### Condition Based Choices"
   ]
  },
  {
   "cell_type": "code",
   "execution_count": 97,
   "id": "9ecd9c4d-b04a-419d-99fb-83c6954af217",
   "metadata": {},
   "outputs": [
    {
     "name": "stdout",
     "output_type": "stream",
     "text": [
      "Result is: ['low' 'low' 'high' 'high' 'high' 'high' 'high' 'high' 'high' 'high']\n",
      "Indices:\n",
      "[[2]\n",
      " [3]\n",
      " [4]\n",
      " [5]\n",
      " [6]\n",
      " [7]\n",
      " [8]\n",
      " [9]]\n",
      "Mask of values between 3 - 7 are: [False False False  True  True  True False False False False]\n",
      "Values between 3 - 7 in array are: [4 5 6]\n"
     ]
    }
   ],
   "source": [
    "new_array = np.array([1,2,3,4,5,6,7,8,9,10])\n",
    "result = np.where(new_array<3,\"low\",\"high\")\n",
    "indices = np.argwhere(new_array>2)\n",
    "print(f\"Result is: {result}\")\n",
    "# argwhere: row-column positions for 2d arrays\n",
    "print(f\"Indices:\\n{indices}\")\n",
    "\n",
    "mask = np.logical_and(new_array>3, new_array<7)\n",
    "print(f\"Mask of values between 3 - 7 are: {mask}\")\n",
    "print(f\"Values between 3 - 7 in array are: {new_array[mask]}\")"
   ]
  }
 ],
 "metadata": {
  "kernelspec": {
   "display_name": "Python 3 (ipykernel)",
   "language": "python",
   "name": "python3"
  },
  "language_info": {
   "codemirror_mode": {
    "name": "ipython",
    "version": 3
   },
   "file_extension": ".py",
   "mimetype": "text/x-python",
   "name": "python",
   "nbconvert_exporter": "python",
   "pygments_lexer": "ipython3",
   "version": "3.12.7"
  }
 },
 "nbformat": 4,
 "nbformat_minor": 5
}
